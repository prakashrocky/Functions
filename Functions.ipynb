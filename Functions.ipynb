{
  "nbformat": 4,
  "nbformat_minor": 0,
  "metadata": {
    "colab": {
      "provenance": []
    },
    "kernelspec": {
      "name": "python3",
      "display_name": "Python 3"
    },
    "language_info": {
      "name": "python"
    }
  },
  "cells": [
    {
      "cell_type": "code",
      "execution_count": 1,
      "metadata": {
        "colab": {
          "base_uri": "https://localhost:8080/"
        },
        "id": "0BKXZoh229J3",
        "outputId": "46529830-c1c4-4242-852e-42f465fdbe18"
      },
      "outputs": [
        {
          "output_type": "stream",
          "name": "stdout",
          "text": [
            "The average is: 3.0\n"
          ]
        }
      ],
      "source": [
        "def calculate_average(numbers):\n",
        "    if not numbers:\n",
        "        return 0\n",
        "    return sum(numbers) / len(numbers)\n",
        "\n",
        "numbers = [1, 2, 3, 4, 5]\n",
        "average = calculate_average(numbers)\n",
        "print(f\"The average is: {average}\")"
      ]
    },
    {
      "cell_type": "code",
      "source": [
        "def find_largest(numbers):\n",
        "    if not numbers:\n",
        "        return None\n",
        "    return max(numbers)\n",
        "\n",
        "numbers = [1, 5, 2, 8, 3]\n",
        "largest = find_largest(numbers)\n",
        "print(f\"The largest number is: {largest}\")"
      ],
      "metadata": {
        "colab": {
          "base_uri": "https://localhost:8080/"
        },
        "id": "fWoNVP5N3b69",
        "outputId": "f3066415-087a-4a10-ee1c-01fd7b270756"
      },
      "execution_count": 2,
      "outputs": [
        {
          "output_type": "stream",
          "name": "stdout",
          "text": [
            "The largest number is: 8\n"
          ]
        }
      ]
    },
    {
      "cell_type": "code",
      "source": [
        "def reverse_string(input_string):\n",
        "    return input_string[::-1]\n",
        "\n",
        "input_string = \"Hello, World!\"\n",
        "reversed_string = reverse_string(input_string)\n",
        "print(f\"The reversed string is: {reversed_string}\")"
      ],
      "metadata": {
        "colab": {
          "base_uri": "https://localhost:8080/"
        },
        "id": "Fgy5jexP3ouq",
        "outputId": "b9bec6c5-f4f6-4ad5-db79-60dafd0e1355"
      },
      "execution_count": 3,
      "outputs": [
        {
          "output_type": "stream",
          "name": "stdout",
          "text": [
            "The reversed string is: !dlroW ,olleH\n"
          ]
        }
      ]
    },
    {
      "cell_type": "code",
      "source": [
        "def factorial(n):\n",
        "    if n == 0:\n",
        "        return 1\n",
        "    else:\n",
        "        return n * factorial(n-1)\n",
        "\n",
        "number = 5\n",
        "result = factorial(number)\n",
        "print(f\"The factorial of {number} is: {result}\")"
      ],
      "metadata": {
        "colab": {
          "base_uri": "https://localhost:8080/"
        },
        "id": "HnI6YfND347C",
        "outputId": "54cadd0c-5dd3-4c20-db14-eb3bd88661d5"
      },
      "execution_count": 4,
      "outputs": [
        {
          "output_type": "stream",
          "name": "stdout",
          "text": [
            "The factorial of 5 is: 120\n"
          ]
        }
      ]
    },
    {
      "cell_type": "code",
      "source": [
        "def is_palindrome(input_string):\n",
        "    processed_string = input_string.replace(\" \", \"\").lower()\n",
        "    return processed_string == processed_string[::-1]\n",
        "\n",
        "input_string = \"A man a plan a canal Panama\"\n",
        "print(f\"Is '{input_string}' a palindrome? {is_palindrome(input_string)}\")"
      ],
      "metadata": {
        "colab": {
          "base_uri": "https://localhost:8080/"
        },
        "id": "Cn9j31kw4ESj",
        "outputId": "d013c11c-66ca-4b4a-9b7d-2c99ff36611d"
      },
      "execution_count": 5,
      "outputs": [
        {
          "output_type": "stream",
          "name": "stdout",
          "text": [
            "Is 'A man a plan a canal Panama' a palindrome? True\n"
          ]
        }
      ]
    },
    {
      "cell_type": "code",
      "source": [
        "def binary_search(sorted_list, target):\n",
        "    left, right = 0, len(sorted_list) - 1\n",
        "\n",
        "    while left <= right:\n",
        "        mid = (left + right) // 2\n",
        "        if sorted_list[mid] == target:\n",
        "            return mid\n",
        "        elif sorted_list[mid] < target:\n",
        "            left = mid + 1\n",
        "        else:\n",
        "            right = mid - 1\n",
        "\n",
        "    return -1\n",
        "\n",
        "sorted_list = [1, 3, 5, 7, 9, 11, 13, 15, 17, 19]\n",
        "target = 11\n",
        "index = binary_search(sorted_list, target)\n",
        "print(f\"The index of {target} is: {index}\")"
      ],
      "metadata": {
        "colab": {
          "base_uri": "https://localhost:8080/"
        },
        "id": "9EJEAwTz4Tdr",
        "outputId": "790cf723-b2c7-42e1-8a19-53594e66d474"
      },
      "execution_count": 6,
      "outputs": [
        {
          "output_type": "stream",
          "name": "stdout",
          "text": [
            "The index of 11 is: 5\n"
          ]
        }
      ]
    },
    {
      "cell_type": "code",
      "source": [
        "def capitalize_words(sentence):\n",
        "    words = sentence.split()\n",
        "    capitalized_words = [word.capitalize() for word in words]\n",
        "    return ' '.join(capitalized_words)\n",
        "\n",
        "sentence = \"hello world\"\n",
        "result = capitalize_words(sentence)\n",
        "print(result)"
      ],
      "metadata": {
        "colab": {
          "base_uri": "https://localhost:8080/"
        },
        "id": "OWjJRhuX4g5b",
        "outputId": "24b7c057-7e01-4417-bb3e-26d4c798fc0b"
      },
      "execution_count": 7,
      "outputs": [
        {
          "output_type": "stream",
          "name": "stdout",
          "text": [
            "Hello World\n"
          ]
        }
      ]
    },
    {
      "cell_type": "code",
      "source": [
        "def find_longest_word(sentence):\n",
        "    words = sentence.split()\n",
        "    longest_word = max(words, key=len)\n",
        "    return longest_word\n",
        "\n",
        "sentence = \"Python is an amazing language\"\n",
        "result = find_longest_word(sentence)\n",
        "print(f\"The longest word is: {result}\")"
      ],
      "metadata": {
        "colab": {
          "base_uri": "https://localhost:8080/"
        },
        "id": "dcWYIJiy4tjf",
        "outputId": "3ca1a730-cdf4-46ce-8252-0cc293b82d53"
      },
      "execution_count": 8,
      "outputs": [
        {
          "output_type": "stream",
          "name": "stdout",
          "text": [
            "The longest word is: language\n"
          ]
        }
      ]
    },
    {
      "cell_type": "code",
      "source": [
        "def merge_sorted_lists(list1, list2):\n",
        "    merged_list = []\n",
        "    i, j = 0, 0\n",
        "\n",
        "    while i < len(list1) and j < len(list2):\n",
        "        if list1[i] < list2[j]:\n",
        "            merged_list.append(list1[i])\n",
        "            i += 1\n",
        "        else:\n",
        "            merged_list.append(list2[j])\n",
        "            j += 1\n",
        "\n",
        "    merged_list.extend(list1[i:])\n",
        "    merged_list.extend(list2[j:])\n",
        "\n",
        "    return merged_list\n",
        "\n",
        "list1 = [1, 3, 5, 7]\n",
        "list2 = [2, 4, 6, 8]\n",
        "result = merge_sorted_lists(list1, list2)\n",
        "print(f\"The merged sorted list is: {result}\")"
      ],
      "metadata": {
        "colab": {
          "base_uri": "https://localhost:8080/"
        },
        "id": "gecFdwcv49kj",
        "outputId": "04c306ca-e7e7-4e4a-c622-76fcd51bee21"
      },
      "execution_count": 9,
      "outputs": [
        {
          "output_type": "stream",
          "name": "stdout",
          "text": [
            "The merged sorted list is: [1, 2, 3, 4, 5, 6, 7, 8]\n"
          ]
        }
      ]
    }
  ]
}